{
 "cells": [
  {
   "cell_type": "markdown",
   "id": "15a4865b-8f9f-4f6c-9b2c-756b8079c36b",
   "metadata": {},
   "source": [
    "1.What are the two values of the Boolean data type? How do you write them?"
   ]
  },
  {
   "cell_type": "code",
   "execution_count": 1,
   "id": "4fe987d8-c6f5-4cb7-85bd-9bc8407b59e7",
   "metadata": {},
   "outputs": [
    {
     "data": {
      "text/plain": [
       "(True, False)"
      ]
     },
     "execution_count": 1,
     "metadata": {},
     "output_type": "execute_result"
    }
   ],
   "source": [
    "# Answer \n",
    "\n",
    "# Boolean data types are True and False \n",
    "\n",
    "x = 5\n",
    "y = None\n",
    "bool(x), bool(y)"
   ]
  },
  {
   "cell_type": "markdown",
   "id": "4b1b9101-77c8-42d4-af91-3dcc98677f6a",
   "metadata": {},
   "source": [
    "2. What are the three different types of Boolean operators?"
   ]
  },
  {
   "cell_type": "code",
   "execution_count": 2,
   "id": "9fdcec5c-1f50-46d6-8fb3-28e7106984c5",
   "metadata": {},
   "outputs": [
    {
     "data": {
      "text/plain": [
       "(True, True, False)"
      ]
     },
     "execution_count": 2,
     "metadata": {},
     "output_type": "execute_result"
    }
   ],
   "source": [
    "# Answer \n",
    "\n",
    "# Three different types or, and, not operator \n",
    "\n",
    "a = True and True \n",
    "b = True or False \n",
    "c = not True \n",
    "\n",
    "a, b, c"
   ]
  },
  {
   "cell_type": "markdown",
   "id": "a6bd9127-01a6-445d-bdf9-cd854da1af4d",
   "metadata": {},
   "source": [
    "3. Make a list of each Boolean operator's truth tables (i.e. every possible combination of Boolean values for the operator and what it evaluate)."
   ]
  },
  {
   "cell_type": "raw",
   "id": "0a878bf6-a4f2-4394-b0e1-a879b7fb4ddc",
   "metadata": {},
   "source": [
    "# Answer \n",
    "\n",
    "| Operand 1 Operator  Operand 2  Outcome |\n",
    "|----------------------------------------|\n",
    "|   False     and       False     False  |\n",
    "|   False     and       True      False  |\n",
    "|   True      and       False     False  |\n",
    "|   True      and       True       True  |\n",
    "|----------------------------------------|\n",
    "|   False      or       False     False  |\n",
    "|   False      or       True       True  |\n",
    "|   True       or       False      True  |\n",
    "|   True       or       True       True  |\n",
    "|----------------------------------------|\n",
    "|   False     not                  True  |\n",
    "|   True      not                 False  |"
   ]
  },
  {
   "cell_type": "markdown",
   "id": "b6a0cb16-8867-44ae-84fa-73bbf24a7eb3",
   "metadata": {},
   "source": [
    "4. What are the values of the following expressions?\n",
    "(5 > 4) and (3 == 5)\n",
    "not (5 > 4)\n",
    "(5 > 4) or (3 == 5)\n",
    "not ((5 > 4) or (3 == 5))\n",
    "(True and True) and (True == False)\n",
    "(not False) or (not True)"
   ]
  },
  {
   "cell_type": "code",
   "execution_count": 3,
   "id": "23a6d6f0-c9db-410b-a69f-8e75e76e4fce",
   "metadata": {},
   "outputs": [
    {
     "data": {
      "text/plain": [
       "(False, False, True, False, False, True)"
      ]
     },
     "execution_count": 3,
     "metadata": {},
     "output_type": "execute_result"
    }
   ],
   "source": [
    "# Answer \n",
    "\n",
    "a = (5 > 4) and (3 == 5)\n",
    "b = not (5 > 4)\n",
    "c = (5 > 4) or (3 == 5)\n",
    "d = not ((5 > 4) or (3 == 5))\n",
    "e = (True and True) and (True == False)\n",
    "f = (not False) or (not True)\n",
    "\n",
    "a, b, c, d, e, f"
   ]
  },
  {
   "cell_type": "markdown",
   "id": "a55390e4-8338-460a-84b6-156bb13a33c4",
   "metadata": {},
   "source": [
    "5. What are the six comparison operators?"
   ]
  },
  {
   "cell_type": "code",
   "execution_count": 4,
   "id": "054a5790-459b-4c4a-afba-75a17b55c707",
   "metadata": {},
   "outputs": [
    {
     "data": {
      "text/plain": [
       "(True, False, True, False, False, True)"
      ]
     },
     "execution_count": 4,
     "metadata": {},
     "output_type": "execute_result"
    }
   ],
   "source": [
    "# Answer \n",
    "\n",
    "# 1. <\n",
    "a = 4 < 5\n",
    "\n",
    "# 2. >\n",
    "b = 4 > 5\n",
    "\n",
    "# 3. <=\n",
    "c = 4 <= 5\n",
    "\n",
    "# 4. >=\n",
    "d = 4 >= 5\n",
    "\n",
    "# 5. ==\n",
    "e = 4 == 5\n",
    "\n",
    "# 6. !=\n",
    "f = 4 != 5\n",
    "\n",
    "a, b, c, d, e, f"
   ]
  },
  {
   "cell_type": "markdown",
   "id": "080fe9b1-8dad-454d-9d16-ce7da3719b8f",
   "metadata": {},
   "source": [
    "6. How do you tell the difference between the equal to and assignment operators?Describe a condition and when you would use one."
   ]
  },
  {
   "cell_type": "code",
   "execution_count": 5,
   "id": "596cf510-875f-4cc2-a45d-3d1d045b13f6",
   "metadata": {},
   "outputs": [
    {
     "data": {
      "text/plain": [
       "(5, 5, 7, True)"
      ]
     },
     "execution_count": 5,
     "metadata": {},
     "output_type": "execute_result"
    }
   ],
   "source": [
    "# Answer \n",
    "\n",
    "# assignment operator \n",
    "a = 5\n",
    "x = 5\n",
    "y = 7\n",
    "\n",
    "# equal operator\n",
    "b = a == x \n",
    "\n",
    "a, x, y, b"
   ]
  },
  {
   "cell_type": "markdown",
   "id": "492b8918-0287-438a-a6ef-2ed707a23435",
   "metadata": {},
   "source": [
    "7. Identify the three blocks in this code:\n",
    "spam = 0\n",
    "if spam == 10:\n",
    "print('eggs')\n",
    "if spam > 5:\n",
    "print('bacon')\n",
    "else:\n",
    "print('ham')\n",
    "print('spam')\n",
    "print('spam')"
   ]
  },
  {
   "cell_type": "code",
   "execution_count": 6,
   "id": "16fdf673-f6f5-42ca-b765-928415d6b87e",
   "metadata": {},
   "outputs": [
    {
     "name": "stdout",
     "output_type": "stream",
     "text": [
      "ham\n",
      "spam\n",
      "spam\n"
     ]
    }
   ],
   "source": [
    "# Answer \n",
    "\n",
    "spam = 0\n",
    "\n",
    "# Block 1 \n",
    "if spam == 10:\n",
    "    print('eggs')\n",
    "\n",
    "# Block 2\n",
    "if spam > 5:\n",
    "    print('bacon')\n",
    "else:\n",
    "    print('ham')\n",
    "\n",
    "# Block 3\n",
    "print('spam')\n",
    "print('spam')"
   ]
  },
  {
   "cell_type": "markdown",
   "id": "530aeda4-5729-4eb9-831a-8cff8cf06740",
   "metadata": {},
   "source": [
    "8. Write code that prints Hello if 1 is stored in spam, prints Howdy if 2 is stored in spam, and prints Greetings! if anything else is stored in spam."
   ]
  },
  {
   "cell_type": "code",
   "execution_count": 7,
   "id": "25c2e9b0-4b3b-44f4-897d-81e8e62cbab9",
   "metadata": {},
   "outputs": [
    {
     "name": "stdout",
     "output_type": "stream",
     "text": [
      "Hello\n",
      "Howdy\n",
      "Greetings!\n"
     ]
    }
   ],
   "source": [
    "# Answer \n",
    "\n",
    "spam = 1\n",
    "if spam == 1:\n",
    "    print('Hello')\n",
    "elif spam == 2:\n",
    "    print('Howdy')\n",
    "else:\n",
    "    print('Greetings!')\n",
    "    \n",
    "spam = 2\n",
    "if spam == 1:\n",
    "    print('Hello')\n",
    "elif spam == 2:\n",
    "    print('Howdy')\n",
    "else:\n",
    "    print('Greetings!')\n",
    "    \n",
    "spam = 0\n",
    "if spam == 1:\n",
    "    print('Hello')\n",
    "elif spam == 2:\n",
    "    print('Howdy')\n",
    "else:\n",
    "    print('Greetings!')"
   ]
  },
  {
   "cell_type": "markdown",
   "id": "5a44e805-51de-44c2-ad5a-b3b3561e166e",
   "metadata": {},
   "source": [
    "9.If your programme is stuck in an endless loop, what keys you’ll press?"
   ]
  },
  {
   "cell_type": "code",
   "execution_count": 8,
   "id": "0108403f-b418-48dc-bb23-744c52c230b3",
   "metadata": {},
   "outputs": [],
   "source": [
    "# Answer \n",
    "\n",
    "# press ctrl + c "
   ]
  },
  {
   "cell_type": "markdown",
   "id": "fbeb4270-c0be-4ecb-a130-d2ea09491020",
   "metadata": {},
   "source": [
    "10. How can you tell the difference between break and continue?"
   ]
  },
  {
   "cell_type": "code",
   "execution_count": 9,
   "id": "ffae9981-919b-4093-badc-ec90bf08c667",
   "metadata": {},
   "outputs": [
    {
     "name": "stdout",
     "output_type": "stream",
     "text": [
      "a is:  9\n",
      "a is:  8\n",
      "a is:  7\n",
      "a is:  6\n",
      "a is:  5\n",
      "end of break program\n",
      "b is:  9\n",
      "b is:  8\n",
      "b is:  7\n",
      "b is:  6\n",
      "b is:  4\n",
      "b is:  3\n",
      "b is:  2\n",
      "b is:  1\n",
      "b is:  0\n",
      "end of continue program\n"
     ]
    }
   ],
   "source": [
    "# Answer \n",
    "\n",
    "# break statement terminates the loop when the condition matches \n",
    "a = 10\n",
    "while a > 0:\n",
    "    a = a - 1\n",
    "    print('a is: ',a)\n",
    "    if a == 5:\n",
    "        break\n",
    "print('end of break program')\n",
    "\n",
    "# continue will skip the particular iteration when the condition matches.\n",
    "b = 10\n",
    "while b > 0:\n",
    "    b = b - 1\n",
    "    if b == 5:\n",
    "        continue\n",
    "    print('b is: ',b)\n",
    "print('end of continue program')"
   ]
  },
  {
   "cell_type": "markdown",
   "id": "fe78506d-6e2e-4b0b-a9eb-e8b20031b2cf",
   "metadata": {},
   "source": [
    "11. In a for loop, what is the difference between range(10), range(0, 10), and range(0, 10, 1)?"
   ]
  },
  {
   "cell_type": "code",
   "execution_count": 10,
   "id": "1991d0a9-908f-49ce-9861-eb01328afefc",
   "metadata": {},
   "outputs": [
    {
     "name": "stdout",
     "output_type": "stream",
     "text": [
      "i is:  0\n",
      "i is:  1\n",
      "i is:  2\n",
      "i is:  3\n",
      "i is:  4\n",
      "i is:  5\n",
      "i is:  6\n",
      "i is:  7\n",
      "i is:  8\n",
      "i is:  9\n",
      "end of first example\n",
      "j is:  0\n",
      "j is:  1\n",
      "j is:  2\n",
      "j is:  3\n",
      "j is:  4\n",
      "j is:  5\n",
      "j is:  6\n",
      "j is:  7\n",
      "j is:  8\n",
      "j is:  9\n",
      "end of second example\n",
      "k is:  0\n",
      "k is:  1\n",
      "k is:  2\n",
      "k is:  3\n",
      "k is:  4\n",
      "k is:  5\n",
      "k is:  6\n",
      "k is:  7\n",
      "k is:  8\n",
      "k is:  9\n",
      "end of thire example\n"
     ]
    }
   ],
   "source": [
    "# Answer \n",
    "\n",
    "# 1. range(10)\n",
    "# range(start)\n",
    "for i in range(10):\n",
    "    print('i is: ',i)\n",
    "print('end of first example')\n",
    "    \n",
    "# 2. range(0,10)\n",
    "# range(start, end)\n",
    "for j in range(0, 10):\n",
    "    print('j is: ',j)\n",
    "print('end of second example')\n",
    "    \n",
    "# 3. range(0, 10, 1)\n",
    "# range(start, end, step)\n",
    "for k in range(0, 10, 1):\n",
    "    print('k is: ',k)\n",
    "print('end of thire example')"
   ]
  },
  {
   "cell_type": "markdown",
   "id": "d129bb9a-406d-4372-8671-5b122031cdd8",
   "metadata": {},
   "source": [
    "12. Write a short program that prints the numbers 1 to 10 using a for loop. Then write an equivalent program that prints the numbers 1 to 10 using a while loop."
   ]
  },
  {
   "cell_type": "code",
   "execution_count": 11,
   "id": "0148a410-a87a-4c5a-8f5a-e04409fef16e",
   "metadata": {},
   "outputs": [
    {
     "name": "stdout",
     "output_type": "stream",
     "text": [
      "i is:  1\n",
      "i is:  2\n",
      "i is:  3\n",
      "i is:  4\n",
      "i is:  5\n",
      "i is:  6\n",
      "i is:  7\n",
      "i is:  8\n",
      "i is:  9\n",
      "i is:  10\n",
      "end of for loop\n",
      "j is:  1\n",
      "j is:  2\n",
      "j is:  3\n",
      "j is:  4\n",
      "j is:  5\n",
      "j is:  6\n",
      "j is:  7\n",
      "j is:  8\n",
      "j is:  9\n",
      "j is:  10\n",
      "end of while loop\n"
     ]
    }
   ],
   "source": [
    "# Answer \n",
    "\n",
    "# For loop \n",
    "for i in range(1, 11):\n",
    "    print('i is: ',i)\n",
    "print('end of for loop')\n",
    "\n",
    "# while loop\n",
    "j=1\n",
    "while j > 0:\n",
    "    print('j is: ',j)\n",
    "    j = j + 1\n",
    "    if j == 11:\n",
    "        break\n",
    "print('end of while loop')"
   ]
  },
  {
   "cell_type": "markdown",
   "id": "c96ac8af-745b-44ec-a28c-13f1eaf91dee",
   "metadata": {},
   "source": [
    "13. If you had a function named bacon() inside a module named spam, how would you call it after importing spam?"
   ]
  },
  {
   "cell_type": "code",
   "execution_count": 12,
   "id": "667c33c7-5023-431d-93ea-7a4cb460788b",
   "metadata": {},
   "outputs": [],
   "source": [
    "# Answer \n",
    "\n",
    "# As per my reading i would say it is a 'Method' after import from a module. It is also called as function but it is recommended to say it as method. \n",
    "# from spam import bacon\n",
    "# spam ----> module \n",
    "# bacon ---> method"
   ]
  }
 ],
 "metadata": {
  "kernelspec": {
   "display_name": "Python 3 (ipykernel)",
   "language": "python",
   "name": "python3"
  },
  "language_info": {
   "codemirror_mode": {
    "name": "ipython",
    "version": 3
   },
   "file_extension": ".py",
   "mimetype": "text/x-python",
   "name": "python",
   "nbconvert_exporter": "python",
   "pygments_lexer": "ipython3",
   "version": "3.10.6"
  }
 },
 "nbformat": 4,
 "nbformat_minor": 5
}
